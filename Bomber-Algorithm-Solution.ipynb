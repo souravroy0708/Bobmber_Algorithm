{
 "cells": [
  {
   "cell_type": "markdown",
   "metadata": {},
   "source": [
    "# <br>Bomber Algo:<br/>\n",
    "The bomber algorithm doesn't like 3 or more consecutive characters in a given string to be same.<br/>\n",
    "For Example: If the given string is &quot;adbcccbbd&quot; the bomber algo will first bomb &quot;ccc&quot; and then &quot;bbb&quot;, so the final output string will become &quot;add&quot;. The bomber algo will destroy the characters only if there are 3 or more continuous occurrence of same characters in the string.<br/>\n",
    "<br/>\n",
    "Write a code of the bomber algo. The method takes a string as an input and returns the bombed string as an output. <br/>\n",
    "<br/>\n",
    "If you are taking any assumptions, please do mention them before the code!<br/>\n",
    "<br/>\n",
    "Examples:<br/>\n",
    "<br/>\n",
    "Input 1: aaabcccdee<br/>\n",
    "Output: bdee<br/>\n",
    "Explanation -&gt;<br/>\n",
    "Step 1: bcccdee<br/>\n",
    "Step 2: bdee (Final Answer)<br/>\n",
    "<br/>\n",
    "Input 2: abcdeeeeddcbfgf<br/>\n",
    "Output : abccbfgf<br/>\n",
    "Explanation -&gt;<br/>\n",
    "Step 1: abcdddcbfgf<br/>\n",
    "Step 2: abccbfgf (Final Answer)</p>"
   ]
  },
  {
   "cell_type": "code",
   "execution_count": 46,
   "metadata": {
    "collapsed": true
   },
   "outputs": [],
   "source": [
    "def bomb_word(string,bomb_character):\n",
    "    \"\"\"\n",
    "    replace bomb_character from string\n",
    "    \"\"\"\n",
    "    replaced_word = string.replace(bomb_character,\"\")\n",
    "    return replaced_word\n",
    "\n",
    "converted_list = []\n",
    "def get_result(word):\n",
    "    counter = 1\n",
    "    for i in range(0,len(word)):\n",
    "        prev_word = word[i-1]\n",
    "        current_word = word[i]\n",
    "        if prev_word == current_word:\n",
    "            counter = counter+1\n",
    "        else:\n",
    "            counter = 1         \n",
    "        if counter>=3:\n",
    "            is_replaced = \"1\"\n",
    "            replace_word = bomb_word(word,current_word)\n",
    "            converted_list.append(replace_word)\n",
    "            get_result(replace_word)\n",
    "    if converted_list:\n",
    "        return converted_list[-1]\n",
    "    else:\n",
    "        return word"
   ]
  },
  {
   "cell_type": "code",
   "execution_count": 50,
   "metadata": {
    "collapsed": false
   },
   "outputs": [
    {
     "name": "stdout",
     "output_type": "stream",
     "text": [
      "Output -  add\n"
     ]
    }
   ],
   "source": [
    "output = get_result('adbcccbbd')\n",
    "print \"Output - \",output"
   ]
  },
  {
   "cell_type": "code",
   "execution_count": 51,
   "metadata": {
    "collapsed": false
   },
   "outputs": [
    {
     "name": "stdout",
     "output_type": "stream",
     "text": [
      "Output -  bdee\n"
     ]
    }
   ],
   "source": [
    "output = get_result('aaabcccdee')\n",
    "print \"Output - \",output"
   ]
  },
  {
   "cell_type": "code",
   "execution_count": 52,
   "metadata": {
    "collapsed": false
   },
   "outputs": [
    {
     "name": "stdout",
     "output_type": "stream",
     "text": [
      "Output -  abccbfgf\n"
     ]
    }
   ],
   "source": [
    "output = get_result('abcdeeeeddcbfgf')\n",
    "print \"Output - \",output\n"
   ]
  }
 ],
 "metadata": {
  "anaconda-cloud": {},
  "kernelspec": {
   "display_name": "Python [default]",
   "language": "python",
   "name": "python2"
  },
  "language_info": {
   "codemirror_mode": {
    "name": "ipython",
    "version": 2
   },
   "file_extension": ".py",
   "mimetype": "text/x-python",
   "name": "python",
   "nbconvert_exporter": "python",
   "pygments_lexer": "ipython2",
   "version": "2.7.12"
  }
 },
 "nbformat": 4,
 "nbformat_minor": 1
}
